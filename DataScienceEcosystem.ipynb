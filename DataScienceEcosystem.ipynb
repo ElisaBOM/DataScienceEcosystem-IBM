{
 "cells": [
  {
   "cell_type": "markdown",
   "id": "ff55ddb0-52db-4126-bbcb-51ca63658b51",
   "metadata": {},
   "source": [
    "# DataScienceEcosystem.ipynb"
   ]
  },
  {
   "cell_type": "markdown",
   "id": "dc0371ed-e7ea-460a-ba44-cfe9a619721f",
   "metadata": {},
   "source": [
    "In this notebook, Data Science Tools and Ecosystem are summarized"
   ]
  },
  {
   "cell_type": "markdown",
   "id": "e3fdce89-774a-4d80-a52b-591ac62750e4",
   "metadata": {},
   "source": [
    "**Objectives:** \n",
    "* Popular Languages that Data Scientist use\n",
    "* Some commonly used libraries and frameworks by Data Scientists\n",
    "* Some Open Source IDEs for Data Science"
   ]
  },
  {
   "cell_type": "markdown",
   "id": "e860a328-3171-4e61-9b3d-2e67b697dba2",
   "metadata": {},
   "source": [
    "## Author\n",
    "Elisa Braunstein Duchowny"
   ]
  },
  {
   "cell_type": "markdown",
   "id": "0d9ddfaa-3978-416e-9d48-fe4eb7753c33",
   "metadata": {},
   "source": [
    "Some of the popular languages that Data Scientists use are:\n",
    "1. Python \n",
    "2. R\n",
    "3. Julia\n",
    "4. Scala"
   ]
  },
  {
   "cell_type": "markdown",
   "id": "8a0b5b2a-3c5f-4bca-84d3-db6929e751ed",
   "metadata": {},
   "source": [
    "Some of the commonly used libraries used by Data Scientists include:\n",
    "**in Python**\n",
    "1. Pandas\n",
    "2. Numpy\n",
    "3. Matplotlib & Seaborn (Graphics)\n",
    "4. Scikit-learn (Machine Learning)\n",
    "5. Keras\n",
    "6. Tensor Flow & Pythorch (Deep Learning frameworks)\n",
    "\n"
   ]
  },
  {
   "cell_type": "markdown",
   "id": "b47c89b1-2070-4a83-98bb-7cbbeaf166f5",
   "metadata": {},
   "source": [
    "| **Data Science Tools** |\r\n",
    "| ----------------------- |\r\n",
    "| RStudio                 |\r\n",
    "| Jupyter IDE             |\r\n",
    "| PyCharm                 | | "
   ]
  },
  {
   "cell_type": "markdown",
   "id": "6ac926ef-c142-4d7b-afe6-65b1dfe3098b",
   "metadata": {},
   "source": [
    "### Below are a few examples of evaluating arithmetic expressions in Python: \n",
    "   **Adition**\n",
    "   result = 5 + 3\r\n",
    "   print(result)  # Output: \n",
    "\n",
    "   **Substraction**\n",
    "      result = 10 - 4\r\n",
    "   print(result)  # Output: 6\r\n",
    "   \n",
    " **Multiplication**\n",
    "    result = 7 * 6\r\n",
    "   print(result)  # Output: 42\n",
    "   **Division**\n",
    "    result = 20 / 4\r\n",
    "   print(result)  # Output: 5.\n",
    "  \n",
    "   **Modulus** \n",
    "   result = 20 % 3\r\n",
    "   print(result)  # Output: \n",
    "   \n",
    "   **Exponentiation**20\r\n",
    "   "
   ]
  },
  {
   "cell_type": "code",
   "execution_count": 1,
   "id": "26f7f49c-8ce8-4b66-ab63-878bb82ecedd",
   "metadata": {},
   "outputs": [
    {
     "name": "stdout",
     "output_type": "stream",
     "text": [
      "17\n"
     ]
    }
   ],
   "source": [
    "#In this code cell evaluate the expression (3*4)+5.\n",
    "#This a simple arithmetic expression to mutiply then add integers.\n",
    "x= int((3*4)+5)\n",
    "print(x)"
   ]
  },
  {
   "cell_type": "code",
   "execution_count": 3,
   "id": "181d3568-eb6a-4eea-85b9-666c0fea8416",
   "metadata": {},
   "outputs": [
    {
     "name": "stdout",
     "output_type": "stream",
     "text": [
      "17\n"
     ]
    }
   ],
   "source": [
    "#This a simple arithmetic expression to mutiply then add integers\n",
    "print((3*4)+5)"
   ]
  },
  {
   "cell_type": "code",
   "execution_count": 25,
   "id": "b654c139-3eb5-46e6-892a-1e36ac537b6e",
   "metadata": {},
   "outputs": [
    {
     "name": "stdout",
     "output_type": "stream",
     "text": [
      "3 hours 20 minutes\n"
     ]
    }
   ],
   "source": [
    "#This will convert 200 minutes to hours by diving by 60\n",
    "minutes = 200\n",
    "hours = int(minutes / 60)\n",
    "minutes_left = minutes % 60\n",
    "print(f\"{hours} hours {minutes_left} minutes\") "
   ]
  }
 ],
 "metadata": {
  "kernelspec": {
   "display_name": "Python 3 (ipykernel)",
   "language": "python",
   "name": "python3"
  },
  "language_info": {
   "codemirror_mode": {
    "name": "ipython",
    "version": 3
   },
   "file_extension": ".py",
   "mimetype": "text/x-python",
   "name": "python",
   "nbconvert_exporter": "python",
   "pygments_lexer": "ipython3",
   "version": "3.12.4"
  }
 },
 "nbformat": 4,
 "nbformat_minor": 5
}
